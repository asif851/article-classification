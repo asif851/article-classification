{
 "cells": [
  {
   "cell_type": "code",
   "execution_count": 17,
   "metadata": {},
   "outputs": [],
   "source": [
    "import os\n",
    "from sklearn.feature_extraction.text import TfidfVectorizer\n",
    "from sklearn.model_selection import train_test_split\n",
    "from sklearn.svm import SVC\n",
    "from sklearn.metrics import classification_report\n"
   ]
  },
  {
   "cell_type": "code",
   "execution_count": 22,
   "metadata": {},
   "outputs": [],
   "source": [
    "def read_data(category):\n",
    "    file_path = f\"data/{category}/1.txt\"\n",
    "    with open(file_path, 'r', encoding='utf-8') as file:\n",
    "        data = file.readlines()\n",
    "    return data\n",
    "def preprocess_text(text):\n",
    "    # Remove punctuation\n",
    "    text = re.sub(r'[।,?৷!\"\\'#$%&()*+,-./:;<=>?@[\\\\]^_`{|}~]+', '', text)\n",
    "    # Remove numbers\n",
    "    text = re.sub(r'\\d+', '', text)\n",
    "    # Remove stopwords\n",
    "    stop_words = set(stopwords.words('bangla'))\n",
    "    tokens = text.split()\n",
    "    text = ' '.join([word for word in tokens if word not in stop_words])\n",
    "    return text\n",
    "\n",
    "\n",
    "\n",
    "categories = ['economy', 'entertainment', 'international', 'sports', 'state']\n",
    "data = []\n",
    "labels = []\n",
    "for category in categories:\n",
    "    articles = read_data(category)\n",
    "    data.extend(articles)\n",
    "    labels.extend([category] * len(articles))"
   ]
  },
  {
   "cell_type": "code",
   "execution_count": 23,
   "metadata": {},
   "outputs": [
    {
     "data": {
      "text/plain": [
       "['economy', 'entertainment', 'international', 'sports', 'state']"
      ]
     },
     "execution_count": 23,
     "metadata": {},
     "output_type": "execute_result"
    }
   ],
   "source": [
    "categories"
   ]
  },
  {
   "cell_type": "code",
   "execution_count": 24,
   "metadata": {},
   "outputs": [
    {
     "name": "stdout",
     "output_type": "stream",
     "text": [
      "['\\n', 'চাঁদপুরে গতকাল সোমবার তিন দিনব্যাপী কৃষি ও প্রযুক্তি মেলা শুরু হয়েছে। শহরে সম্প্রসারণ অধিদপ্তর প্রাঙ্গণে মেলাটির উদ্বোধন করেন জেলা প্রশাসক ইসমাইল হোসেন। পরে মেলা প্রাঙ্গণে কৃষিবিদ মনিরুল ইসলামের সভাপতিত্বে এক আলোচনা সভা অনুষ্ঠিত হয়। মেলায় ১৫টি স্টল রেয়ছে।\\u2008মেলা প্রতিদিন সকাল নয়টা থেকে রাত আটটা পর্যন্ত চলছে।চাঁদপুর প্রতিনিধি\\n', '\\n', 'এটিএন\\xa0বাংলা\\xa0\\n', 'বেলা\\xa0৩-১০\\xa0সে\\xa0আমার\\xa0মন\\xa0কেড়েছে\\xa0(শাকিব\\xa0খান, তিন্নি, আলমগীর, দিতি)।\\xa0\\n', 'একুশে\\xa0টিভি\\xa0\\n', 'বেলা\\xa0১-৩০\\xa0জজ\\xa0ব্যারিস্টার\\xa0পুলিশ\\xa0কমিশনার।\\xa0\\n', 'আরটিভি\\xa0\\n', 'বেলা\\xa0২-১৫\\xa0আঘাত-পাল্টা\\xa0আঘাত\\xa0(মান্না, মৌসুমী)।\\xa0\\n', 'চ্যানেল\\xa0নাইন\\xa0\\n', 'সকাল\\xa0৯-০০\\xa0ব্যবধান\\xa0(নাদিম, নূতন)।\\xa0\\n', 'দীপ্ত\\xa0টিভি\\xa0\\n', 'বেলা\\xa0১১-৩০\\xa0গাঁয়ের\\xa0ছেলে\\xa0(রাজ্জাক, আলমগীর, রোজিনা)।\\xa0\\n', 'ডিডি\\xa0বাংলা\\xa0\\n', 'বেলা\\xa0১১-৩৫\\xa0হারবার্ট\\xa0(শুভাশীষ, কবির\\xa0সুমন)।\\xa0\\n', 'জি\\xa0বাংলা\\xa0সিনেমা\\xa0\\n', 'সকাল\\xa0৯-৩০\\xa0জয়\\xa0বাবা\\xa0ভোলানাথ\\xa0(রচনা, অভিষেক, জ্যাকিশ্রফ)।\\xa0১২-৩০\\xa0বাবা\\xa0তারকনাথ\\xa0(বিশ্বজিৎ, সন্ধ্যা\\xa0রায়, ভারতী\\xa0দেবী)।\\xa0৩-৩০\\xa0কাঞ্চন\\xa0মালা\\xa0।\\xa0৭-০০\\xa0অভাগিনী।\\xa0৯-৩০\\xa0শত্রু-মিত্র।\\xa0\\n', 'জলসা\\xa0মুভিজ\\xa0(ইন্ডিয়া)\\n', 'সকাল\\xa0৮-০০\\xa0দুই\\xa0পৃথিবী।\\xa0১২-০০\\xa0চ্যালেঞ্জ।\\xa0৩-০০\\xa0রহমত\\xa0আলী।\\xa0৫-৫০\\xa0গুরু।\\xa0\\n', 'জি\\xa0সিনেমা\\xa0(ইন্ডিয়া)\\n', 'সকাল\\xa0৯-০০\\xa0জলজলা\\xa0(ধর্মেন্দ্র, কিম\\xa0কাতকার)।\\xa0১২-০০\\xa0মাস্টারজি\\xa0(রাজেশ\\xa0খান্না, শ্রীদেবী)।\\xa0২-৫৭\\xa0যমলোক\\xa0(শিবাজি, রাজেন্দ্র\\xa0প্রসাদ)।\\xa0৫-৩৬\\xa0কসম\\xa0হিন্দুস্তান\\xa0কি\\xa0(জয়ম\\xa0রবি)।\\xa0৮-৩০\\xa0ডেয়ারিং\\xa0মর্দ।\\n', '\\n', 'ভারতের আসাম রাজ্যে বন্যা পরিস্থিতির অনেকটাই উন্নতি হয়েছে। প্রধান নদী ব্রহ্মপুত্রের পাণি বিপৎসীমার নিচ দিয়ে বইছে। তবে আবার বৃষ্টি শুরু হয়েছে। আগামী ২৪ ঘণ্টায় প্রবল বর্ষণের সম্ভাবনা রয়েছে। রাজ্যে চলতি বছরে বন্যায় মৃতের সংখ্যা বেড়ে দাঁড়িয়েছে ১৫৬ জনে।\\n', 'বন্যা বিধ্বস্ত আসামের পরিস্থিতি অনেকটাই উন্নতি হয়েছে। তবে রাজ্য দুর্যোগ মোকাবিলা কর্তৃপক্ষ (অ্যাসডমা)-র দেওয়া তথ্য অনুযায়ী রাজ্যের সাতটি জেলার ৪৭২টি শরণার্থীশিবিরে এখনো ২ লাখ ৬৭ হাজার মানুষ রয়েছে। রাজ্যের বেশির ভাগ নদীর পানি বিপৎসীমার নিচ দিয়ে বইলেও ধানসিঁড়ির পানি এখনো বিপৎসীমার ওপরে। ফলে ৩৬ হাজার হেক্টর কৃষিজমি এখনো পাণির নিচে। ধানসিঁড়ির পারেই ৬২টি ত্রাণ শিবিরে রয়েছেন ২৫ হাজার ২৫৩ জন শরণার্থী।\\n', 'রাজ্যের বিভিন্ন জায়গায় বন্যার পাণি নামলেও পরিস্থিতি এখনো ভয়াবহ। বাড়ছে পাণিবাহিত রোগে। ব্যাপক ক্ষতি হয়েছে ফসলের। ফলে আর্থিক দিক থেকেও অনেক মানুষ সর্বহারা হয়ে পড়েছে। ভাঙন কেড়ে নিয়েছে তাদের ঘুরে দাঁড়াবার ক্ষমতা।\\n', 'এখনো দেশের অন্যান্য অঞ্চলের সঙ্গে রেলপথে বিচ্ছিন্ন আসামসহ গোটা উত্তর পূর্বাঞ্চল। রেলপথ স্বাভাবিক হতে আরও দুদিন লাগবে বলে উত্তর পূর্ব সীমান্ত রেলের মুখ্য জনসংযোগ আধিকারিক প্রণবজ্যোতি শর্মা এক বিবৃতিতে জানিয়েছেন। এদিকে রেলপথ বন্ধ থাকায় আসামের পাশাপাশি অরুণাচল প্রদেশ, নাগাল্যান্ড, মেঘালয়, মণিপুর, মিজোরাম ও ত্রিপুরাও সমস্যায় পড়েছে।\\n', 'ভারত সরকার অবশ্য যুদ্ধকালীন তৎপরতায় বন্যা বিধ্বস্ত আসামের পরিকাঠামো উন্নয়নের নির্দেশ দিয়েছে। প্রধানমন্ত্রী নরেন্দ্র মোদী নিজেও আকাশ পথে এসে দেখে গিয়েছেন বন্যা পরিস্থিতি। রাজ্যের মুখ্যমন্ত্রী সর্বানন্দ সোনোয়াল গতকাল শনিবারও গুয়াহাটিতে সাংবাদিকদের জানিয়েছেন, ত্রাণ ও পুনর্বাসনের পাশাপাশি রাজ্যের পরিস্থিতি স্বাভাবিক করতে দিনরাত কাজ চলছে।\\n', 'তবে বৃষ্টি এখনো অব্যাহত। আবহাওয়া দপ্তরের পূর্বাভাস, আগামী ২৪ ঘণ্টায় ভারী বৃষ্টির শঙ্কা প্রবল।\\n', 'প্রসঙ্গত, চলতি বছরে ভারতে মোট বৃষ্টিপাতের ঘাটতির পরিমাণ ৬ শতাংশ। কিন্তু উত্তর পূর্ব ভারতে প্রায় স্বাভাবিকই বৃষ্টিপাত হচ্ছে। এখন পর্যন্ত ঘাটতি মাত্র ১ শতাংশ। আবহাওয়াবিদদের মতে, এটাও স্বাভাবিক বৃষ্টিপাত।\\n', '\\n', 'পুরস্কার যে পাবেন সেটা নিয়ে তেমন কোনো সংশয়ই ছিল না। ব্যবধানটা কত হতে পারে সেটিই ছিল অনুমানের বিষয়। লিওনেল মেসি জিতেছেন বিপুল ব্যবধানেই। উয়েফার ৫৪ জন সাংবাদিকের ৪৯ জনেরই ভোট গেছে মেসির পক্ষে! মেসির বার্সা সতীর্থ লুইস সুয়ারেজ পেয়েছেন ৩ ভোট, ক্রিস্টিয়ানো রোনালদো ২টি। পরশু উয়েফার ২০১৪-১৫ মৌসুমের সেরা খেলোয়াড়ের লড়াইয়ে তো কোনো প্রতিদ্বন্দ্বিতাই হলো না! চ্যাম্পিয়নস লিগ সেমিফাইনালে বায়ার্নের সঙ্গে গোলটা হয়েছে উয়েফার বর্ষসেরাও।তাহলে কি ব্যালন ডি’অরও দুই বছর পর আগামী জানুয়ারিতেই ফিরে পাচ্ছেন মেসি? এটি নিয়ে বার্সেলোনা সভাপতি জোসেপ মারিয়া বার্তোমেউয়ের সংশয় সামান্যই, ‘লিওনেল মেসি বিশ্বের সেরা খেলোয়াড়। আমরা সবাই জানি প্রতিটি ম্যাচেই সে নিজেকে কীভাবে উজাড় করে দেয়। তার আত্মবিশ্বাসও অবিশ্বাস্য। ইউরোপের সেরা খেলোয়াড়ের পুরস্কারটা তাই তার কাছেই গেছে। ব্যালন ডি’অরও তারই পাওয়া উচিত, সে বিশ্বের সেরা খেলোয়াড়। সবকিছু তারই জেতার কথা।’বার্সেলোনার হয়ে স্বপ্নের একটা মৌসুম কাটানোর পর এমন কিছু না হলেই অঘটন হবে। কিন্তু মেসি নিজে কী ভাবছেন? বার্সেলোনা ফরোয়ার্ড বিনয়ের সঙ্গে কৃতিত্বটা দিচ্ছেন সতীর্থদের, ‘আমি ওদের কাছে কৃতজ্ঞ। এটা ওদের জন্যই হয়েছে।’ বার্সেলোনার হয়ে সবকিছুই জেতা হয়ে গেছে। সামনে নতুন প্রেরণা আর কী হতে পারে? আছে, প্রেরণা খুঁজে নিতে জানেন মেসি, ‘আমরা জানি দুবার চ্যাম্পিয়নস লিগ জেতা সহজ নয় (এখন পর্যন্ত কেউ সেটা করতে পারেনি), কিন্তু আমরা চেষ্টা করব। সত্যি বলতে কী একটা জেতাই খুব কঠিন, দুটি জিততে হলে কী করতে হবে সেটা একবার কল্পনা করুন।’মেসি সেটা করতে পারবেন, এমন বাজি ধরার লোক অনেক আছে। কিন্তু আর্জেন্টিনার হয়ে বড় কোনো শিরোপা কি আদৌ হাতে নিতে পারবেন? কোপা আমেরিকার ফাইনালে স্বপ্নভঙ্গের পর তো গুঞ্জন উঠে গিয়েছিল, মেসি জাতীয় দলের হয়ে আর না-ও খেলতে পারেন। কিন্তু সব গুঞ্জন হাওয়ায় উড়িয়ে সামনের মাসে প্রীতি ম্যাচের জন্য মেসিকে দলেও রেখেছেন আর্জেন্টিনা কোচ জেরার্ডো মার্টিনো।মেসির কাছেও ওসব নিছকই গুঞ্জন, এমন কথা ওঠায় আর্জেন্টিনা অধিনায়ক বিরক্তও, ‘আমি কখনোই বলিনি আমি জাতীয় দলের হয়ে আর খেলতে চাই না। ওরা (প্রচারমাধ্যম) আমাকে আর কত খুন করবে? এখন অবশ্য এসবে অভ্যস্ত হয়ে গেছি। আমাদের সামনে প্রীতি ম্যাচ আছে। আর কোচ চাইলেই আমাকে পাবেন।’ গোলডটকম, মার্কা।\\n', '\\n', 'চট্টগ্রাম সিটি করপোরেশনের প্রধান নির্বাহী কর্মকর্তা এখন থেকে করপোরেশনের সব আর্থিক ও প্রশাসনিক কার্যক্রম পরিচালনা করবেন। সিটি করপোরেশনের তিন প্যানেল মেয়রের সবাই নির্বাচনে প্রতিদ্বন্দ্বিতা করায় স্থানীয় সরকার মন্ত্রণালয় এ সিদ্ধান্ত নিয়েছে বলে জানা গেছে।স্থানীয় সরকার মন্ত্রণালয় থেকে পাঠানো এ-সংক্রান্ত একটি চিঠি গতকাল মঙ্গলবার চট্টগ্রাম সিটি করপোরেশনের প্রধান নির্বাহী কর্মকর্তা কাজী মোহাম্মদ শফিউল আলম বুঝে পেয়েছেন। তিনি প্রথম আলোকে জানান, চিঠিতে ভারপ্রাপ্ত মেয়রের পরিবর্তে প্রধান নির্বাহী কর্মকর্তাকে আর্থিক ও প্রশাসনিক কার্যক্রম পরিচালনা করার ক্ষমতা অর্পণের বিষয়টি উল্লেখ করা হয়েছে। মন্ত্রণালয়ের সিনিয়র সহকারী সচিব সরোজ কুমার নাথ স্বাক্ষরিত চিঠিতে উল্লেখ করা হয়েছে, চট্টগ্রাম সিটি করপোরেশনের মেয়র মোহাম্মদ মনজুর আলম গত ২৭ মার্চ পদত্যাগ করেছেন। সিটি করপোরেশনের প্যানেল মেয়ররা আসন্ন নির্বাচনে প্রতিদ্বন্দ্বিতা করছেন। তাই নাগরিক সেবা অব্যাহত রাখা এবং উন্নয়নমূলক কার্যক্রম চলমান রাখার স্বার্থে স্থানীয় সরকার (সিটি করপোরেশন) আইন, ২০০৯-এর ধারা ১০৫-এ প্রদত্ত ক্ষমতাবলে পরবর্তী নির্দেশ না দেওয়া পর্যন্ত করপোরেশনের প্রধান নির্বাহী কর্মকর্তাকে সব আর্থিক ও প্রশাসনিক কার্যক্রম পরিচালনা করার ক্ষমতা অর্পণ করা হলো।সিটি করপোরেশনের মেয়রের পদ থেকে মনজুর আলমের পদত্যাগের পর ভারপ্রাপ্ত মেয়রের দায়িত্ব গ্রহণ করেন প্যানেল মেয়র মোহাম্মদ হোসেন।\\n']\n"
     ]
    }
   ],
   "source": [
    "print(data)"
   ]
  },
  {
   "cell_type": "code",
   "execution_count": 25,
   "metadata": {},
   "outputs": [
    {
     "data": {
      "text/plain": [
       "['economy',\n",
       " 'economy',\n",
       " 'entertainment',\n",
       " 'entertainment',\n",
       " 'entertainment',\n",
       " 'entertainment',\n",
       " 'entertainment',\n",
       " 'entertainment',\n",
       " 'entertainment',\n",
       " 'entertainment',\n",
       " 'entertainment',\n",
       " 'entertainment',\n",
       " 'entertainment',\n",
       " 'entertainment',\n",
       " 'entertainment',\n",
       " 'entertainment',\n",
       " 'entertainment',\n",
       " 'entertainment',\n",
       " 'entertainment',\n",
       " 'entertainment',\n",
       " 'entertainment',\n",
       " 'international',\n",
       " 'international',\n",
       " 'international',\n",
       " 'international',\n",
       " 'international',\n",
       " 'international',\n",
       " 'international',\n",
       " 'international',\n",
       " 'sports',\n",
       " 'sports',\n",
       " 'state',\n",
       " 'state']"
      ]
     },
     "execution_count": 25,
     "metadata": {},
     "output_type": "execute_result"
    }
   ],
   "source": [
    "labels"
   ]
  },
  {
   "cell_type": "code",
   "execution_count": 26,
   "metadata": {},
   "outputs": [],
   "source": [
    "tfidf_vectorizer = TfidfVectorizer(max_features=1000, stop_words='english')\n",
    "X = tfidf_vectorizer.fit_transform(data)"
   ]
  },
  {
   "cell_type": "code",
   "execution_count": 27,
   "metadata": {},
   "outputs": [],
   "source": [
    "X_train, X_test, y_train, y_test = train_test_split(X, labels, test_size=0.2, random_state=42)"
   ]
  },
  {
   "cell_type": "code",
   "execution_count": 9,
   "metadata": {},
   "outputs": [
    {
     "name": "stdout",
     "output_type": "stream",
     "text": [
      "               precision    recall  f1-score   support\n",
      "\n",
      "entertainment       0.71      1.00      0.83         5\n",
      "international       0.00      0.00      0.00         1\n",
      "        state       0.00      0.00      0.00         1\n",
      "\n",
      "     accuracy                           0.71         7\n",
      "    macro avg       0.24      0.33      0.28         7\n",
      " weighted avg       0.51      0.71      0.60         7\n",
      "\n"
     ]
    },
    {
     "name": "stderr",
     "output_type": "stream",
     "text": [
      "/home/asif/Project/Image-Classification/my_env/lib/python3.11/site-packages/sklearn/metrics/_classification.py:1509: UndefinedMetricWarning: Precision is ill-defined and being set to 0.0 in labels with no predicted samples. Use `zero_division` parameter to control this behavior.\n",
      "  _warn_prf(average, modifier, f\"{metric.capitalize()} is\", len(result))\n",
      "/home/asif/Project/Image-Classification/my_env/lib/python3.11/site-packages/sklearn/metrics/_classification.py:1509: UndefinedMetricWarning: Precision is ill-defined and being set to 0.0 in labels with no predicted samples. Use `zero_division` parameter to control this behavior.\n",
      "  _warn_prf(average, modifier, f\"{metric.capitalize()} is\", len(result))\n",
      "/home/asif/Project/Image-Classification/my_env/lib/python3.11/site-packages/sklearn/metrics/_classification.py:1509: UndefinedMetricWarning: Precision is ill-defined and being set to 0.0 in labels with no predicted samples. Use `zero_division` parameter to control this behavior.\n",
      "  _warn_prf(average, modifier, f\"{metric.capitalize()} is\", len(result))\n"
     ]
    }
   ],
   "source": [
    "model = SVC(kernel='linear')\n",
    "model.fit(X_train, y_train)\n",
    "y_pred = model.predict(X_test)\n",
    "print(classification_report(y_test, y_pred))"
   ]
  },
  {
   "cell_type": "code",
   "execution_count": 10,
   "metadata": {},
   "outputs": [
    {
     "name": "stdout",
     "output_type": "stream",
     "text": [
      "               precision    recall  f1-score   support\n",
      "\n",
      "entertainment       0.71      1.00      0.83         5\n",
      "international       0.00      0.00      0.00         1\n",
      "        state       0.00      0.00      0.00         1\n",
      "\n",
      "     accuracy                           0.71         7\n",
      "    macro avg       0.24      0.33      0.28         7\n",
      " weighted avg       0.51      0.71      0.60         7\n",
      "\n"
     ]
    },
    {
     "name": "stderr",
     "output_type": "stream",
     "text": [
      "/home/asif/Project/Image-Classification/my_env/lib/python3.11/site-packages/sklearn/metrics/_classification.py:1509: UndefinedMetricWarning: Precision is ill-defined and being set to 0.0 in labels with no predicted samples. Use `zero_division` parameter to control this behavior.\n",
      "  _warn_prf(average, modifier, f\"{metric.capitalize()} is\", len(result))\n",
      "/home/asif/Project/Image-Classification/my_env/lib/python3.11/site-packages/sklearn/metrics/_classification.py:1509: UndefinedMetricWarning: Precision is ill-defined and being set to 0.0 in labels with no predicted samples. Use `zero_division` parameter to control this behavior.\n",
      "  _warn_prf(average, modifier, f\"{metric.capitalize()} is\", len(result))\n",
      "/home/asif/Project/Image-Classification/my_env/lib/python3.11/site-packages/sklearn/metrics/_classification.py:1509: UndefinedMetricWarning: Precision is ill-defined and being set to 0.0 in labels with no predicted samples. Use `zero_division` parameter to control this behavior.\n",
      "  _warn_prf(average, modifier, f\"{metric.capitalize()} is\", len(result))\n"
     ]
    }
   ],
   "source": [
    "# Random Forest\n",
    "from sklearn.ensemble import RandomForestClassifier\n",
    "rf_model = RandomForestClassifier(n_estimators=100, random_state=42)\n",
    "rf_model.fit(X_train, y_train)\n",
    "rf_y_pred = rf_model.predict(X_test)\n",
    "print(classification_report(y_test, rf_y_pred))"
   ]
  },
  {
   "cell_type": "code",
   "execution_count": 11,
   "metadata": {},
   "outputs": [
    {
     "name": "stdout",
     "output_type": "stream",
     "text": [
      "Multinomial Naive Bayes:\n",
      "               precision    recall  f1-score   support\n",
      "\n",
      "entertainment       0.71      1.00      0.83         5\n",
      "international       0.00      0.00      0.00         1\n",
      "        state       0.00      0.00      0.00         1\n",
      "\n",
      "     accuracy                           0.71         7\n",
      "    macro avg       0.24      0.33      0.28         7\n",
      " weighted avg       0.51      0.71      0.60         7\n",
      "\n"
     ]
    },
    {
     "name": "stderr",
     "output_type": "stream",
     "text": [
      "/home/asif/Project/Image-Classification/my_env/lib/python3.11/site-packages/sklearn/metrics/_classification.py:1509: UndefinedMetricWarning: Precision is ill-defined and being set to 0.0 in labels with no predicted samples. Use `zero_division` parameter to control this behavior.\n",
      "  _warn_prf(average, modifier, f\"{metric.capitalize()} is\", len(result))\n",
      "/home/asif/Project/Image-Classification/my_env/lib/python3.11/site-packages/sklearn/metrics/_classification.py:1509: UndefinedMetricWarning: Precision is ill-defined and being set to 0.0 in labels with no predicted samples. Use `zero_division` parameter to control this behavior.\n",
      "  _warn_prf(average, modifier, f\"{metric.capitalize()} is\", len(result))\n",
      "/home/asif/Project/Image-Classification/my_env/lib/python3.11/site-packages/sklearn/metrics/_classification.py:1509: UndefinedMetricWarning: Precision is ill-defined and being set to 0.0 in labels with no predicted samples. Use `zero_division` parameter to control this behavior.\n",
      "  _warn_prf(average, modifier, f\"{metric.capitalize()} is\", len(result))\n"
     ]
    }
   ],
   "source": [
    "# Multinomial Naive Bayes\n",
    "from sklearn.naive_bayes import MultinomialNB\n",
    "from sklearn.linear_model import PassiveAggressiveClassifier\n",
    "nb_model = MultinomialNB()\n",
    "nb_model.fit(X_train, y_train)\n",
    "print(\"Multinomial Naive Bayes:\")\n",
    "nb_y_pred = nb_model.predict(X_test)\n",
    "print(classification_report(y_test, nb_y_pred))"
   ]
  },
  {
   "cell_type": "markdown",
   "metadata": {},
   "source": [
    "\n",
    "RNN"
   ]
  },
  {
   "cell_type": "code",
   "execution_count": 28,
   "metadata": {},
   "outputs": [],
   "source": [
    "\n",
    "import os\n",
    "import re\n",
    "import string\n",
    "from sklearn.model_selection import train_test_split\n",
    "from sklearn.metrics import classification_report\n",
    "import numpy as np\n",
    "import tensorflow as tf\n",
    "from tensorflow.keras.preprocessing.text import Tokenizer\n",
    "from tensorflow.keras.preprocessing.sequence import pad_sequences\n",
    "import nltk\n",
    "from nltk.corpus import stopwords"
   ]
  },
  {
   "cell_type": "code",
   "execution_count": 29,
   "metadata": {},
   "outputs": [],
   "source": [
    "max_words = 10000\n",
    "max_len = 200"
   ]
  },
  {
   "cell_type": "code",
   "execution_count": 30,
   "metadata": {},
   "outputs": [],
   "source": [
    "tokenizer = Tokenizer(num_words=max_words)\n",
    "tokenizer.fit_on_texts(data)\n",
    "sequences = tokenizer.texts_to_sequences(data)\n",
    "X = pad_sequences(sequences, maxlen=max_len)\n",
    "\n",
    "# Step 3: Convert labels to one-hot encoding\n",
    "label_dict = {label: i for i, label in enumerate(categories)}\n",
    "y = np.array([label_dict[label] for label in labels])\n",
    "y = tf.keras.utils.to_categorical(y)"
   ]
  },
  {
   "cell_type": "code",
   "execution_count": 31,
   "metadata": {},
   "outputs": [],
   "source": [
    "X_train, X_test, y_train, y_test = train_test_split(X, y, test_size=0.2, random_state=42)"
   ]
  },
  {
   "cell_type": "code",
   "execution_count": 32,
   "metadata": {},
   "outputs": [],
   "source": [
    "model = tf.keras.Sequential([\n",
    "    tf.keras.layers.Embedding(max_words, 64, input_length=max_len),\n",
    "    tf.keras.layers.LSTM(64),\n",
    "    tf.keras.layers.Dense(5, activation='softmax')\n",
    "])\n"
   ]
  },
  {
   "cell_type": "code",
   "execution_count": 33,
   "metadata": {},
   "outputs": [
    {
     "name": "stdout",
     "output_type": "stream",
     "text": [
      "Epoch 1/10\n",
      "1/1 [==============================] - 2s 2s/step - loss: 1.6115 - accuracy: 0.1000 - val_loss: 1.5920 - val_accuracy: 0.6667\n",
      "Epoch 2/10\n",
      "1/1 [==============================] - 0s 73ms/step - loss: 1.5944 - accuracy: 0.4500 - val_loss: 1.5778 - val_accuracy: 0.8333\n",
      "Epoch 3/10\n",
      "1/1 [==============================] - 0s 80ms/step - loss: 1.5770 - accuracy: 0.6000 - val_loss: 1.5619 - val_accuracy: 0.8333\n",
      "Epoch 4/10\n",
      "1/1 [==============================] - 0s 77ms/step - loss: 1.5581 - accuracy: 0.6500 - val_loss: 1.5435 - val_accuracy: 0.8333\n",
      "Epoch 5/10\n",
      "1/1 [==============================] - 0s 79ms/step - loss: 1.5371 - accuracy: 0.6000 - val_loss: 1.5213 - val_accuracy: 0.6667\n",
      "Epoch 6/10\n",
      "1/1 [==============================] - 0s 91ms/step - loss: 1.5129 - accuracy: 0.6000 - val_loss: 1.4934 - val_accuracy: 0.6667\n",
      "Epoch 7/10\n",
      "1/1 [==============================] - 0s 74ms/step - loss: 1.4840 - accuracy: 0.5500 - val_loss: 1.4571 - val_accuracy: 0.6667\n",
      "Epoch 8/10\n",
      "1/1 [==============================] - 0s 76ms/step - loss: 1.4484 - accuracy: 0.5000 - val_loss: 1.4077 - val_accuracy: 0.6667\n",
      "Epoch 9/10\n",
      "1/1 [==============================] - 0s 78ms/step - loss: 1.4030 - accuracy: 0.5000 - val_loss: 1.3386 - val_accuracy: 0.6667\n",
      "Epoch 10/10\n",
      "1/1 [==============================] - 0s 75ms/step - loss: 1.3442 - accuracy: 0.5000 - val_loss: 1.2426 - val_accuracy: 0.6667\n"
     ]
    },
    {
     "data": {
      "text/plain": [
       "<keras.src.callbacks.History at 0x7f8feba42410>"
      ]
     },
     "execution_count": 33,
     "metadata": {},
     "output_type": "execute_result"
    }
   ],
   "source": [
    "\n",
    "model.compile(optimizer='adam',\n",
    "              loss='categorical_crossentropy',\n",
    "              metrics=['accuracy'])\n",
    "\n",
    "model.fit(X_train, y_train, epochs=10, batch_size=32, validation_split=0.2)"
   ]
  },
  {
   "cell_type": "code",
   "execution_count": 34,
   "metadata": {},
   "outputs": [
    {
     "name": "stdout",
     "output_type": "stream",
     "text": [
      "1/1 [==============================] - 0s 22ms/step - loss: 1.2833 - accuracy: 0.7143\n",
      "Test Accuracy: 0.7142857313156128\n"
     ]
    }
   ],
   "source": [
    "loss, accuracy = model.evaluate(X_test, y_test)\n",
    "print(\"Test Accuracy:\", accuracy)"
   ]
  },
  {
   "cell_type": "code",
   "execution_count": null,
   "metadata": {},
   "outputs": [],
   "source": []
  },
  {
   "cell_type": "code",
   "execution_count": null,
   "metadata": {},
   "outputs": [],
   "source": []
  },
  {
   "cell_type": "code",
   "execution_count": null,
   "metadata": {},
   "outputs": [],
   "source": []
  },
  {
   "cell_type": "code",
   "execution_count": null,
   "metadata": {},
   "outputs": [],
   "source": []
  },
  {
   "cell_type": "code",
   "execution_count": null,
   "metadata": {},
   "outputs": [],
   "source": []
  }
 ],
 "metadata": {
  "kernelspec": {
   "display_name": "Python 3 (ipykernel)",
   "language": "python",
   "name": "python3"
  },
  "language_info": {
   "codemirror_mode": {
    "name": "ipython",
    "version": 3
   },
   "file_extension": ".py",
   "mimetype": "text/x-python",
   "name": "python",
   "nbconvert_exporter": "python",
   "pygments_lexer": "ipython3",
   "version": "3.11.8"
  }
 },
 "nbformat": 4,
 "nbformat_minor": 4
}
